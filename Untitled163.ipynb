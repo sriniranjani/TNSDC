{
  "nbformat": 4,
  "nbformat_minor": 0,
  "metadata": {
    "colab": {
      "provenance": []
    },
    "kernelspec": {
      "name": "python3",
      "display_name": "Python 3"
    },
    "language_info": {
      "name": "python"
    }
  },
  "cells": [
    {
      "cell_type": "code",
      "execution_count": 5,
      "metadata": {
        "colab": {
          "base_uri": "https://localhost:8080/"
        },
        "id": "f80c1Wp_xFrA",
        "outputId": "14db01a4-2270-4131-e985-b8f729eb6eeb"
      },
      "outputs": [
        {
          "output_type": "stream",
          "name": "stdout",
          "text": [
            "Loss: 0.23, Accuracy: 1.00\n",
            "Input\tOutput\n",
            "[0 0]\t0\n",
            "[0 1]\t1\n",
            "[1 0]\t1\n",
            "[1 1]\t0\n"
          ]
        }
      ],
      "source": [
        "from keras.models import Sequential\n",
        "from keras.layers import Dense\n",
        "import numpy as np\n",
        "import tensorflow as tf\n",
        "tf.random.set_seed(69)\n",
        "X_train = np.array([[0, 0], [0, 1], [1, 0], [1, 1]])\n",
        "y_train = np.array([[0], [1], [1], [0]])\n",
        "model = Sequential([\n",
        "Dense(4, input_dim=2, activation='sigmoid'),\n",
        "Dense(1, activation='sigmoid')])\n",
        "model.compile(loss='binary_crossentropy',\n",
        "optimizer='adam',\n",
        "\n",
        "metrics=['accuracy'])\n",
        "model.fit(X_train, y_train, epochs=2000, verbose=0)\n",
        "loss, accuracy = model.evaluate(X_train, y_train, verbose=0)\n",
        "print(f\"Loss: {loss:.2f}, Accuracy: {accuracy:.2f}\")\n",
        "X_test = np.array([[0, 0], [0, 1], [1, 0], [1, 1]])\n",
        "y_pred = (model.predict(X_test, verbose=0) > 0.5).astype(\"int32\")\n",
        "print(\"Input\\tOutput\")\n",
        "for i in range(len(X_test)):\n",
        "  print(f\"{X_test[i]}\\t{y_pred[i][0]}\")"
      ]
    }
  ]
}